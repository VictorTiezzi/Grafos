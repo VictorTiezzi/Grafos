{
 "cells": [
  {
   "cell_type": "markdown",
   "id": "particular-mattress",
   "metadata": {},
   "source": [
    "# ATIVIDADE 4"
   ]
  },
  {
   "cell_type": "markdown",
   "id": "activated-minnesota",
   "metadata": {},
   "source": [
    "<img src=\"Problema_Peixes.jpg\" width=\"800px\">"
   ]
  },
  {
   "cell_type": "markdown",
   "id": "delayed-collar",
   "metadata": {},
   "source": [
    "<img src=\"Tabela_Peixes.jpg\" width=\"800px\">"
   ]
  },
  {
   "cell_type": "markdown",
   "id": "occasional-editor",
   "metadata": {},
   "source": [
    "#### DADOS"
   ]
  },
  {
   "cell_type": "code",
   "execution_count": 1,
   "id": "victorian-edinburgh",
   "metadata": {},
   "outputs": [],
   "source": [
    "from igraph import *\n",
    "\n",
    "V = {\n",
    "    0: 'A',\n",
    "    1: 'B',\n",
    "    2: 'C',\n",
    "    3: 'D',\n",
    "    4: 'E',\n",
    "    5: 'F',\n",
    "    6: 'G'}\n",
    "\n",
    "E = {\n",
    "    0: [1, 2, 3, 4, 5, 6],\n",
    "    1: [0, 5, 6],\n",
    "    2: [0, 5],\n",
    "    3: [0, 5, 6],\n",
    "    4: [0],\n",
    "    5: [0, 1, 2, 3],\n",
    "    6: [0, 1, 3]}\n",
    "\n",
    "g = Graph()"
   ]
  },
  {
   "cell_type": "markdown",
   "id": "every-witness",
   "metadata": {},
   "source": [
    "#### TRATAMENTO DOS VÉRTICES"
   ]
  },
  {
   "cell_type": "code",
   "execution_count": 2,
   "id": "determined-fifth",
   "metadata": {},
   "outputs": [],
   "source": [
    "\n",
    "tags_dos_verteces=[]\n",
    "\n",
    "for x in V:\n",
    "    tags_dos_verteces.append(V[x])\n",
    "\n",
    "g.add_vertices(len(V))      #numeros de Verteces"
   ]
  },
  {
   "cell_type": "markdown",
   "id": "ceramic-module",
   "metadata": {},
   "source": [
    "#### TRATAMENTO DAS ARESTAS"
   ]
  },
  {
   "cell_type": "code",
   "execution_count": 3,
   "id": "opposed-latest",
   "metadata": {},
   "outputs": [],
   "source": [
    "\n",
    "arestas=[]\n",
    "\n",
    "for x in E:\n",
    "    for y in E[x]:\n",
    "        if not((y,x) in arestas):\n",
    "            arestas.append((x,y))\n",
    "\n",
    "g.add_edges(arestas)   #arestas"
   ]
  },
  {
   "cell_type": "markdown",
   "id": "objective-narrative",
   "metadata": {},
   "source": [
    "#### TRATAMENTO DAS CORES"
   ]
  },
  {
   "cell_type": "code",
   "execution_count": 4,
   "id": "moderate-particle",
   "metadata": {},
   "outputs": [],
   "source": [
    "cores=['aqua', 'greenyellow', 'yellow', 'salmon', 'red']\n",
    "\n",
    "Lista_ordenada = dict(sorted(E.items(), key=lambda x: len(x[1]), reverse=True))\n",
    "cores_em_dicionario = {next(iter(Lista_ordenada)): cores[0]}\n",
    "\n",
    "for item in Lista_ordenada.items():\n",
    "    \n",
    "    cor_existente = []\n",
    "    for index in item[1]:    \n",
    "        if index in cores_em_dicionario and cores_em_dicionario[index] not in cor_existente:\n",
    "            cor_existente.append(cores_em_dicionario[index])\n",
    "    \n",
    "    for cor in cores:\n",
    "        if cor not in cor_existente:\n",
    "            cores_em_dicionario[item[0]] = cor\n",
    "            break\n",
    "            \n",
    "cores_no_grafo = []                  \n",
    "for cor in sorted(cores_em_dicionario.items()):\n",
    "    cores_no_grafo.append(cor[1])"
   ]
  },
  {
   "cell_type": "markdown",
   "id": "understood-cosmetic",
   "metadata": {},
   "source": [
    "#### PLOTANDO O GRAFO\n",
    "#### RESPOSTA: 3 AQUÁRIOS"
   ]
  },
  {
   "cell_type": "code",
   "execution_count": 5,
   "id": "confirmed-harassment",
   "metadata": {},
   "outputs": [
    {
     "data": {
      "image/svg+xml": [
       "<?xml version=\"1.0\" encoding=\"UTF-8\"?>\n",
       "<svg xmlns=\"http://www.w3.org/2000/svg\" xmlns:xlink=\"http://www.w3.org/1999/xlink\" width=\"600pt\" height=\"600pt\" viewBox=\"0 0 600 600\" version=\"1.1\">\n",
       "<defs>\n",
       "<g>\n",
       "<symbol overflow=\"visible\" id=\"glyph0-0\">\n",
       "<path style=\"stroke:none;\" d=\"M 1.75 0 L 1.75 -8.75 L 8.75 -8.75 L 8.75 0 Z M 1.96875 -0.21875 L 8.53125 -0.21875 L 8.53125 -8.53125 L 1.96875 -8.53125 Z M 1.96875 -0.21875 \"/>\n",
       "</symbol>\n",
       "<symbol overflow=\"visible\" id=\"glyph0-1\">\n",
       "<path style=\"stroke:none;\" d=\"M -0.0195313 0 L 3.828125 -10.023438 L 5.257813 -10.023438 L 9.359375 0 L 7.847656 0 L 6.679688 -3.035156 L 2.488281 -3.035156 L 1.386719 0 Z M 2.871094 -4.117188 L 6.269531 -4.117188 L 5.222656 -6.890625 C 4.898438 -7.734375 4.664063 -8.425781 4.511719 -8.96875 C 4.382813 -8.324219 4.203125 -7.6875 3.972656 -7.054688 Z M 2.871094 -4.117188 \"/>\n",
       "</symbol>\n",
       "<symbol overflow=\"visible\" id=\"glyph0-2\">\n",
       "<path style=\"stroke:none;\" d=\"M 1.023438 0 L 1.023438 -10.023438 L 4.785156 -10.023438 C 5.546875 -10.019531 6.160156 -9.917969 6.625 -9.71875 C 7.085938 -9.511719 7.449219 -9.199219 7.714844 -8.78125 C 7.976563 -8.355469 8.109375 -7.914063 8.109375 -7.457031 C 8.109375 -7.027344 7.992188 -6.625 7.757813 -6.246094 C 7.523438 -5.867188 7.171875 -5.5625 6.707031 -5.332031 C 7.3125 -5.152344 7.777344 -4.847656 8.105469 -4.421875 C 8.425781 -3.992188 8.589844 -3.488281 8.59375 -2.90625 C 8.589844 -2.4375 8.492188 -2 8.296875 -1.597656 C 8.097656 -1.191406 7.851563 -0.878906 7.5625 -0.664063 C 7.269531 -0.441406 6.902344 -0.277344 6.464844 -0.167969 C 6.019531 -0.0546875 5.480469 0 4.847656 0 Z M 2.351563 -5.8125 L 4.519531 -5.8125 C 5.101563 -5.8125 5.523438 -5.847656 5.78125 -5.925781 C 6.117188 -6.023438 6.371094 -6.191406 6.542969 -6.425781 C 6.710938 -6.65625 6.796875 -6.949219 6.800781 -7.300781 C 6.796875 -7.632813 6.71875 -7.925781 6.5625 -8.179688 C 6.402344 -8.429688 6.171875 -8.601563 5.878906 -8.699219 C 5.578125 -8.789063 5.070313 -8.835938 4.355469 -8.839844 L 2.351563 -8.839844 Z M 2.351563 -1.183594 L 4.847656 -1.183594 C 5.269531 -1.183594 5.570313 -1.199219 5.75 -1.230469 C 6.050781 -1.285156 6.304688 -1.375 6.511719 -1.503906 C 6.714844 -1.628906 6.886719 -1.8125 7.019531 -2.058594 C 7.152344 -2.300781 7.21875 -2.585938 7.21875 -2.90625 C 7.21875 -3.277344 7.121094 -3.601563 6.929688 -3.878906 C 6.738281 -4.152344 6.472656 -4.34375 6.132813 -4.460938 C 5.792969 -4.570313 5.304688 -4.628906 4.667969 -4.628906 L 2.351563 -4.628906 Z M 2.351563 -1.183594 \"/>\n",
       "</symbol>\n",
       "<symbol overflow=\"visible\" id=\"glyph0-3\">\n",
       "<path style=\"stroke:none;\" d=\"M 8.230469 -3.515625 L 9.554688 -3.179688 C 9.277344 -2.089844 8.777344 -1.257813 8.054688 -0.6875 C 7.332031 -0.113281 6.449219 0.167969 5.40625 0.171875 C 4.324219 0.167969 3.445313 -0.046875 2.773438 -0.488281 C 2.09375 -0.925781 1.578125 -1.5625 1.226563 -2.398438 C 0.867188 -3.226563 0.691406 -4.125 0.695313 -5.085938 C 0.691406 -6.128906 0.890625 -7.039063 1.292969 -7.816406 C 1.691406 -8.59375 2.257813 -9.183594 2.996094 -9.585938 C 3.730469 -9.988281 4.542969 -10.1875 5.429688 -10.191406 C 6.425781 -10.1875 7.269531 -9.933594 7.957031 -9.425781 C 8.640625 -8.914063 9.117188 -8.195313 9.386719 -7.273438 L 8.078125 -6.964844 C 7.84375 -7.691406 7.507813 -8.222656 7.066406 -8.558594 C 6.625 -8.890625 6.066406 -9.058594 5.398438 -9.058594 C 4.625 -9.058594 3.984375 -8.871094 3.46875 -8.503906 C 2.953125 -8.128906 2.589844 -7.632813 2.378906 -7.015625 C 2.167969 -6.390625 2.0625 -5.75 2.0625 -5.09375 C 2.0625 -4.234375 2.183594 -3.492188 2.433594 -2.859375 C 2.679688 -2.222656 3.066406 -1.746094 3.59375 -1.433594 C 4.117188 -1.117188 4.6875 -0.960938 5.296875 -0.964844 C 6.039063 -0.960938 6.667969 -1.175781 7.183594 -1.605469 C 7.699219 -2.035156 8.046875 -2.671875 8.230469 -3.515625 Z M 8.230469 -3.515625 \"/>\n",
       "</symbol>\n",
       "<symbol overflow=\"visible\" id=\"glyph0-4\">\n",
       "<path style=\"stroke:none;\" d=\"M 1.078125 0 L 1.078125 -10.023438 L 4.53125 -10.023438 C 5.308594 -10.019531 5.90625 -9.972656 6.316406 -9.878906 C 6.890625 -9.746094 7.378906 -9.503906 7.785156 -9.160156 C 8.3125 -8.710938 8.707031 -8.140625 8.972656 -7.449219 C 9.230469 -6.75 9.363281 -5.957031 9.367188 -5.066406 C 9.363281 -4.300781 9.273438 -3.625 9.097656 -3.039063 C 8.917969 -2.449219 8.691406 -1.964844 8.414063 -1.582031 C 8.136719 -1.195313 7.832031 -0.890625 7.503906 -0.671875 C 7.171875 -0.449219 6.773438 -0.28125 6.304688 -0.171875 C 5.835938 -0.0546875 5.296875 0 4.695313 0 Z M 2.40625 -1.183594 L 4.546875 -1.183594 C 5.207031 -1.183594 5.722656 -1.242188 6.101563 -1.367188 C 6.472656 -1.484375 6.773438 -1.660156 7 -1.886719 C 7.3125 -2.199219 7.558594 -2.621094 7.734375 -3.15625 C 7.910156 -3.683594 7.996094 -4.328125 8 -5.085938 C 7.996094 -6.132813 7.824219 -6.9375 7.480469 -7.5 C 7.132813 -8.0625 6.714844 -8.4375 6.226563 -8.632813 C 5.871094 -8.765625 5.300781 -8.835938 4.511719 -8.839844 L 2.40625 -8.839844 Z M 2.40625 -1.183594 \"/>\n",
       "</symbol>\n",
       "<symbol overflow=\"visible\" id=\"glyph0-5\">\n",
       "<path style=\"stroke:none;\" d=\"M 1.109375 0 L 1.109375 -10.023438 L 8.351563 -10.023438 L 8.351563 -8.839844 L 2.433594 -8.839844 L 2.433594 -5.769531 L 7.976563 -5.769531 L 7.976563 -4.59375 L 2.433594 -4.59375 L 2.433594 -1.183594 L 8.585938 -1.183594 L 8.585938 0 Z M 1.109375 0 \"/>\n",
       "</symbol>\n",
       "<symbol overflow=\"visible\" id=\"glyph0-6\">\n",
       "<path style=\"stroke:none;\" d=\"M 1.148438 0 L 1.148438 -10.023438 L 7.910156 -10.023438 L 7.910156 -8.839844 L 2.476563 -8.839844 L 2.476563 -5.734375 L 7.179688 -5.734375 L 7.179688 -4.554688 L 2.476563 -4.554688 L 2.476563 0 Z M 1.148438 0 \"/>\n",
       "</symbol>\n",
       "<symbol overflow=\"visible\" id=\"glyph0-7\">\n",
       "<path style=\"stroke:none;\" d=\"M 5.769531 -3.929688 L 5.769531 -5.105469 L 10.015625 -5.113281 L 10.015625 -1.394531 C 9.359375 -0.875 8.6875 -0.484375 8 -0.222656 C 7.304688 0.0390625 6.59375 0.167969 5.867188 0.171875 C 4.878906 0.167969 3.984375 -0.0390625 3.183594 -0.460938 C 2.375 -0.878906 1.769531 -1.488281 1.359375 -2.289063 C 0.949219 -3.082031 0.742188 -3.972656 0.746094 -4.960938 C 0.742188 -5.933594 0.945313 -6.84375 1.355469 -7.691406 C 1.761719 -8.535156 2.351563 -9.164063 3.117188 -9.574219 C 3.882813 -9.984375 4.761719 -10.1875 5.761719 -10.191406 C 6.484375 -10.1875 7.140625 -10.070313 7.726563 -9.839844 C 8.308594 -9.601563 8.769531 -9.277344 9.105469 -8.859375 C 9.4375 -8.4375 9.6875 -7.890625 9.863281 -7.21875 L 8.667969 -6.890625 C 8.511719 -7.398438 8.324219 -7.796875 8.105469 -8.09375 C 7.878906 -8.382813 7.5625 -8.617188 7.148438 -8.792969 C 6.734375 -8.96875 6.273438 -9.058594 5.769531 -9.058594 C 5.160156 -9.058594 4.636719 -8.964844 4.195313 -8.78125 C 3.753906 -8.59375 3.394531 -8.351563 3.125 -8.050781 C 2.851563 -7.75 2.644531 -7.417969 2.496094 -7.0625 C 2.238281 -6.4375 2.109375 -5.765625 2.113281 -5.046875 C 2.109375 -4.148438 2.261719 -3.402344 2.574219 -2.800781 C 2.878906 -2.199219 3.328125 -1.75 3.914063 -1.460938 C 4.5 -1.164063 5.125 -1.019531 5.789063 -1.023438 C 6.363281 -1.019531 6.921875 -1.128906 7.472656 -1.355469 C 8.015625 -1.574219 8.429688 -1.8125 8.714844 -2.0625 L 8.714844 -3.929688 Z M 5.769531 -3.929688 \"/>\n",
       "</symbol>\n",
       "</g>\n",
       "</defs>\n",
       "<g id=\"surface2\">\n",
       "<rect x=\"0\" y=\"0\" width=\"600\" height=\"600\" style=\"fill:rgb(100%,100%,100%);fill-opacity:1;stroke:none;\"/>\n",
       "<path style=\"fill:none;stroke-width:1;stroke-linecap:butt;stroke-linejoin:miter;stroke:rgb(0%,0%,0%);stroke-opacity:1;stroke-miterlimit:10;\" d=\"M 329.273438 307.847656 L 544.226563 313.523438 \"/>\n",
       "<path style=\"fill:none;stroke-width:1;stroke-linecap:butt;stroke-linejoin:miter;stroke:rgb(0%,0%,0%);stroke-opacity:1;stroke-miterlimit:10;\" d=\"M 329.273438 307.847656 L 20 330.433594 \"/>\n",
       "<path style=\"fill:none;stroke-width:1;stroke-linecap:butt;stroke-linejoin:miter;stroke:rgb(0%,0%,0%);stroke-opacity:1;stroke-miterlimit:10;\" d=\"M 329.273438 307.847656 L 349.195313 20 \"/>\n",
       "<path style=\"fill:none;stroke-width:1;stroke-linecap:butt;stroke-linejoin:miter;stroke:rgb(0%,0%,0%);stroke-opacity:1;stroke-miterlimit:10;\" d=\"M 329.273438 307.847656 L 351.535156 580 \"/>\n",
       "<path style=\"fill:none;stroke-width:1;stroke-linecap:butt;stroke-linejoin:miter;stroke:rgb(0%,0%,0%);stroke-opacity:1;stroke-miterlimit:10;\" d=\"M 329.273438 307.847656 L 196.25 174.195313 \"/>\n",
       "<path style=\"fill:none;stroke-width:1;stroke-linecap:butt;stroke-linejoin:miter;stroke:rgb(0%,0%,0%);stroke-opacity:1;stroke-miterlimit:10;\" d=\"M 329.273438 307.847656 L 580 121.535156 \"/>\n",
       "<path style=\"fill:none;stroke-width:1;stroke-linecap:butt;stroke-linejoin:miter;stroke:rgb(0%,0%,0%);stroke-opacity:1;stroke-miterlimit:10;\" d=\"M 544.226563 313.523438 L 196.25 174.195313 \"/>\n",
       "<path style=\"fill:none;stroke-width:1;stroke-linecap:butt;stroke-linejoin:miter;stroke:rgb(0%,0%,0%);stroke-opacity:1;stroke-miterlimit:10;\" d=\"M 544.226563 313.523438 L 580 121.535156 \"/>\n",
       "<path style=\"fill:none;stroke-width:1;stroke-linecap:butt;stroke-linejoin:miter;stroke:rgb(0%,0%,0%);stroke-opacity:1;stroke-miterlimit:10;\" d=\"M 20 330.433594 L 196.25 174.195313 \"/>\n",
       "<path style=\"fill:none;stroke-width:1;stroke-linecap:butt;stroke-linejoin:miter;stroke:rgb(0%,0%,0%);stroke-opacity:1;stroke-miterlimit:10;\" d=\"M 349.195313 20 L 196.25 174.195313 \"/>\n",
       "<path style=\"fill:none;stroke-width:1;stroke-linecap:butt;stroke-linejoin:miter;stroke:rgb(0%,0%,0%);stroke-opacity:1;stroke-miterlimit:10;\" d=\"M 349.195313 20 L 580 121.535156 \"/>\n",
       "<path style=\"fill-rule:nonzero;fill:rgb(0%,100%,100%);fill-opacity:1;stroke-width:1;stroke-linecap:butt;stroke-linejoin:miter;stroke:rgb(0%,0%,0%);stroke-opacity:1;stroke-miterlimit:10;\" d=\"M 346.773438 307.847656 C 346.773438 317.511719 338.9375 325.347656 329.273438 325.347656 C 319.609375 325.347656 311.773438 317.511719 311.773438 307.847656 C 311.773438 298.179688 319.609375 290.347656 329.273438 290.347656 C 338.9375 290.347656 346.773438 298.179688 346.773438 307.847656 \"/>\n",
       "<path style=\"fill-rule:nonzero;fill:rgb(100%,100%,0%);fill-opacity:1;stroke-width:1;stroke-linecap:butt;stroke-linejoin:miter;stroke:rgb(0%,0%,0%);stroke-opacity:1;stroke-miterlimit:10;\" d=\"M 561.726563 313.523438 C 561.726563 323.1875 553.890625 331.023438 544.226563 331.023438 C 534.558594 331.023438 526.726563 323.1875 526.726563 313.523438 C 526.726563 303.855469 534.558594 296.023438 544.226563 296.023438 C 553.890625 296.023438 561.726563 303.855469 561.726563 313.523438 \"/>\n",
       "<path style=\"fill-rule:nonzero;fill:rgb(100%,100%,0%);fill-opacity:1;stroke-width:1;stroke-linecap:butt;stroke-linejoin:miter;stroke:rgb(0%,0%,0%);stroke-opacity:1;stroke-miterlimit:10;\" d=\"M 37.5 330.433594 C 37.5 340.101563 29.664063 347.933594 20 347.933594 C 10.335938 347.933594 2.5 340.101563 2.5 330.433594 C 2.5 320.769531 10.335938 312.933594 20 312.933594 C 29.664063 312.933594 37.5 320.769531 37.5 330.433594 \"/>\n",
       "<path style=\"fill-rule:nonzero;fill:rgb(100%,100%,0%);fill-opacity:1;stroke-width:1;stroke-linecap:butt;stroke-linejoin:miter;stroke:rgb(0%,0%,0%);stroke-opacity:1;stroke-miterlimit:10;\" d=\"M 366.695313 20 C 366.695313 29.664063 358.859375 37.5 349.195313 37.5 C 339.53125 37.5 331.695313 29.664063 331.695313 20 C 331.695313 10.335938 339.53125 2.5 349.195313 2.5 C 358.859375 2.5 366.695313 10.335938 366.695313 20 \"/>\n",
       "<path style=\"fill-rule:nonzero;fill:rgb(67.843137%,100%,18.431373%);fill-opacity:1;stroke-width:1;stroke-linecap:butt;stroke-linejoin:miter;stroke:rgb(0%,0%,0%);stroke-opacity:1;stroke-miterlimit:10;\" d=\"M 369.035156 580 C 369.035156 589.664063 361.199219 597.5 351.535156 597.5 C 341.871094 597.5 334.035156 589.664063 334.035156 580 C 334.035156 570.335938 341.871094 562.5 351.535156 562.5 C 361.199219 562.5 369.035156 570.335938 369.035156 580 \"/>\n",
       "<path style=\"fill-rule:nonzero;fill:rgb(67.843137%,100%,18.431373%);fill-opacity:1;stroke-width:1;stroke-linecap:butt;stroke-linejoin:miter;stroke:rgb(0%,0%,0%);stroke-opacity:1;stroke-miterlimit:10;\" d=\"M 213.75 174.195313 C 213.75 183.859375 205.914063 191.695313 196.25 191.695313 C 186.585938 191.695313 178.75 183.859375 178.75 174.195313 C 178.75 164.53125 186.585938 156.695313 196.25 156.695313 C 205.914063 156.695313 213.75 164.53125 213.75 174.195313 \"/>\n",
       "<path style=\"fill-rule:nonzero;fill:rgb(67.843137%,100%,18.431373%);fill-opacity:1;stroke-width:1;stroke-linecap:butt;stroke-linejoin:miter;stroke:rgb(0%,0%,0%);stroke-opacity:1;stroke-miterlimit:10;\" d=\"M 597.5 121.535156 C 597.5 131.199219 589.664063 139.035156 580 139.035156 C 570.335938 139.035156 562.5 131.199219 562.5 121.535156 C 562.5 111.867188 570.335938 104.035156 580 104.035156 C 589.664063 104.035156 597.5 111.867188 597.5 121.535156 \"/>\n",
       "<g style=\"fill:rgb(0%,0%,0%);fill-opacity:1;\">\n",
       "  <use xlink:href=\"#glyph0-1\" x=\"324.605469\" y=\"314.355469\"/>\n",
       "</g>\n",
       "<g style=\"fill:rgb(0%,0%,0%);fill-opacity:1;\">\n",
       "  <use xlink:href=\"#glyph0-2\" x=\"539.414063\" y=\"320.03125\"/>\n",
       "</g>\n",
       "<g style=\"fill:rgb(0%,0%,0%);fill-opacity:1;\">\n",
       "  <use xlink:href=\"#glyph0-3\" x=\"14.875\" y=\"337.03125\"/>\n",
       "</g>\n",
       "<g style=\"fill:rgb(0%,0%,0%);fill-opacity:1;\">\n",
       "  <use xlink:href=\"#glyph0-4\" x=\"343.972656\" y=\"26.511719\"/>\n",
       "</g>\n",
       "<g style=\"fill:rgb(0%,0%,0%);fill-opacity:1;\">\n",
       "  <use xlink:href=\"#glyph0-5\" x=\"346.6875\" y=\"586.511719\"/>\n",
       "</g>\n",
       "<g style=\"fill:rgb(0%,0%,0%);fill-opacity:1;\">\n",
       "  <use xlink:href=\"#glyph0-6\" x=\"191.71875\" y=\"180.707031\"/>\n",
       "</g>\n",
       "<g style=\"fill:rgb(0%,0%,0%);fill-opacity:1;\">\n",
       "  <use xlink:href=\"#glyph0-7\" x=\"574.621094\" y=\"128.128906\"/>\n",
       "</g>\n",
       "</g>\n",
       "</svg>\n"
      ],
      "text/plain": [
       "<igraph.drawing.Plot at 0x2098e9118e0>"
      ]
     },
     "execution_count": 5,
     "metadata": {
      "image/svg+xml": {
       "isolated": true
      }
     },
     "output_type": "execute_result"
    }
   ],
   "source": [
    "plot(g,\n",
    "        vertex_size=35,\n",
    "        vertex_color=cores_no_grafo,\n",
    "        vertex_label=tags_dos_verteces,\n",
    "        edge_width=[1],\n",
    "        edge_color=['black'],\n",
    "        )"
   ]
  }
 ],
 "metadata": {
  "kernelspec": {
   "display_name": "Python 3",
   "language": "python",
   "name": "python3"
  },
  "language_info": {
   "codemirror_mode": {
    "name": "ipython",
    "version": 3
   },
   "file_extension": ".py",
   "mimetype": "text/x-python",
   "name": "python",
   "nbconvert_exporter": "python",
   "pygments_lexer": "ipython3",
   "version": "3.8.8"
  }
 },
 "nbformat": 4,
 "nbformat_minor": 5
}
